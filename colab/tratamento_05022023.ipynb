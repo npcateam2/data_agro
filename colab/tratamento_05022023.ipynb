{
  "nbformat": 4,
  "nbformat_minor": 0,
  "metadata": {
    "colab": {
      "provenance": [],
      "mount_file_id": "1xUPMf7JhZIZvdRwE_OL1jIZ5byRpjNww",
      "authorship_tag": "ABX9TyPtouJhop1+aVw6jyS37sar",
      "include_colab_link": true
    },
    "kernelspec": {
      "name": "python3",
      "display_name": "Python 3"
    },
    "language_info": {
      "name": "python"
    }
  },
  "cells": [
    {
      "cell_type": "markdown",
      "metadata": {
        "id": "view-in-github",
        "colab_type": "text"
      },
      "source": [
        "<a href=\"https://colab.research.google.com/github/npcateam2/data_agro/blob/main/colab/tratamento_05022023.ipynb\" target=\"_parent\"><img src=\"https://colab.research.google.com/assets/colab-badge.svg\" alt=\"Open In Colab\"/></a>"
      ]
    },
    {
      "cell_type": "code",
      "execution_count": 1,
      "metadata": {
        "id": "BHtvZxSiWXV7"
      },
      "outputs": [],
      "source": [
        "import pandas as pd"
      ]
    },
    {
      "cell_type": "code",
      "source": [
        "df = pd.read_csv('/content/drive/MyDrive/Dados/unified-data/full_table.csv')"
      ],
      "metadata": {
        "id": "yzT5CEcOWpUt"
      },
      "execution_count": 2,
      "outputs": []
    },
    {
      "cell_type": "code",
      "source": [
        "df.isna().sum()"
      ],
      "metadata": {
        "colab": {
          "base_uri": "https://localhost:8080/"
        },
        "id": "7DjRFLPnYRju",
        "outputId": "351b6b05-62f1-403a-976e-0a27fc84a677"
      },
      "execution_count": 6,
      "outputs": [
        {
          "output_type": "execute_result",
          "data": {
            "text/plain": [
              "municipio                    5426\n",
              "cod_municipality                0\n",
              "regiao_intermediaria            0\n",
              "cod_regiao_intermediaria        0\n",
              "cod_regiao_imediata             0\n",
              "regiao_imediata                 0\n",
              "tipo_producao                8164\n",
              "cod_variavel                 5426\n",
              "variavel                     8164\n",
              "cod_produto                     0\n",
              "produto                      8164\n",
              "cod_metrica                 67844\n",
              "metrica                     67844\n",
              "valor                        5426\n",
              "ano                          5426\n",
              "dtype: int64"
            ]
          },
          "metadata": {},
          "execution_count": 6
        }
      ]
    },
    {
      "cell_type": "code",
      "source": [
        "df = df.dropna()"
      ],
      "metadata": {
        "id": "3s5-ra2VYdoy"
      },
      "execution_count": 8,
      "outputs": []
    },
    {
      "cell_type": "code",
      "source": [
        "df = df.drop_duplicates()"
      ],
      "metadata": {
        "id": "crNvP31FY7ew"
      },
      "execution_count": 10,
      "outputs": []
    },
    {
      "cell_type": "code",
      "source": [
        "df"
      ],
      "metadata": {
        "colab": {
          "base_uri": "https://localhost:8080/",
          "height": 424
        },
        "id": "NXp-Z2VsZCuG",
        "outputId": "456ff2de-13fa-4f7e-e171-435a5d1ae25d"
      },
      "execution_count": 11,
      "outputs": [
        {
          "output_type": "execute_result",
          "data": {
            "text/plain": [
              "                municipio  cod_municipality regiao_intermediaria  \\\n",
              "0              Abaetetuba           1500107           Abaetetuba   \n",
              "1              Abaetetuba           1500107           Abaetetuba   \n",
              "2              Abaetetuba           1500107           Abaetetuba   \n",
              "3              Abaetetuba           1500107           Abaetetuba   \n",
              "4              Abaetetuba           1500107           Abaetetuba   \n",
              "...                   ...               ...                  ...   \n",
              "1430074  Vitória do Xingu           1508357             Altamira   \n",
              "1430075          Xinguara           1508407             Redenção   \n",
              "1430076          Xinguara           1508407             Redenção   \n",
              "1430077          Xinguara           1508407             Redenção   \n",
              "1430078          Xinguara           1508407             Redenção   \n",
              "\n",
              "         cod_regiao_intermediaria  cod_regiao_imediata regiao_imediata  \\\n",
              "0                          150003                 1501           Belém   \n",
              "1                          150003                 1501           Belém   \n",
              "2                          150003                 1501           Belém   \n",
              "3                          150003                 1501           Belém   \n",
              "4                          150003                 1501           Belém   \n",
              "...                           ...                  ...             ...   \n",
              "1430074                      1506               150018        Altamira   \n",
              "1430075                      1504               150014        Xinguara   \n",
              "1430076                      1504               150014        Xinguara   \n",
              "1430077                      1504               150014        Xinguara   \n",
              "1430078                      1504               150014        Xinguara   \n",
              "\n",
              "                            tipo_producao  cod_variavel              variavel  \\\n",
              "0                                Pecuária         105.0  Efetivo dos rebanhos   \n",
              "1                                Pecuária         105.0  Efetivo dos rebanhos   \n",
              "2                                Pecuária         105.0  Efetivo dos rebanhos   \n",
              "3                                Pecuária         105.0  Efetivo dos rebanhos   \n",
              "4                                Pecuária         105.0  Efetivo dos rebanhos   \n",
              "...                                   ...           ...                   ...   \n",
              "1430074  Produto das lavouras temporárias          41.0     Área de cobertura   \n",
              "1430075     Área de cobertura de Floresta           3.0     Área de cobertura   \n",
              "1430076                          Pastagem          15.0     Área de cobertura   \n",
              "1430077  Produto das lavouras temporárias          39.0     Área de cobertura   \n",
              "1430078  Produto das lavouras temporárias          41.0     Área de cobertura   \n",
              "\n",
              "         cod_produto         produto  cod_metrica   metrica          valor  \\\n",
              "0             2670.0          Bovino         24.0   Cabeças      28.000000   \n",
              "1             2670.0          Bovino         24.0   Cabeças      54.000000   \n",
              "2             2670.0          Bovino         24.0   Cabeças      47.000000   \n",
              "3             2670.0          Bovino         24.0   Cabeças      39.000000   \n",
              "4             2670.0          Bovino         24.0   Cabeças      10.000000   \n",
              "...              ...             ...          ...       ...            ...   \n",
              "1430074         -1.0          Outros          1.0  Hectares     366.334757   \n",
              "1430075         -1.0         Florest          1.0  Hectares   67297.304704   \n",
              "1430076         -1.0           Pasto          1.0  Hectares  300973.161862   \n",
              "1430077         -1.0  Soja (em grão)          1.0  Hectares    1232.578321   \n",
              "1430078         -1.0          Outros          1.0  Hectares    2686.891111   \n",
              "\n",
              "            ano  \n",
              "0        1974.0  \n",
              "1        1975.0  \n",
              "2        1976.0  \n",
              "3        1977.0  \n",
              "4        1978.0  \n",
              "...         ...  \n",
              "1430074  2021.0  \n",
              "1430075  2021.0  \n",
              "1430076  2021.0  \n",
              "1430077  2021.0  \n",
              "1430078  2021.0  \n",
              "\n",
              "[1314717 rows x 15 columns]"
            ],
            "text/html": [
              "\n",
              "  <div id=\"df-f20be9b3-59d2-4a24-a2c7-88443ea1ab89\">\n",
              "    <div class=\"colab-df-container\">\n",
              "      <div>\n",
              "<style scoped>\n",
              "    .dataframe tbody tr th:only-of-type {\n",
              "        vertical-align: middle;\n",
              "    }\n",
              "\n",
              "    .dataframe tbody tr th {\n",
              "        vertical-align: top;\n",
              "    }\n",
              "\n",
              "    .dataframe thead th {\n",
              "        text-align: right;\n",
              "    }\n",
              "</style>\n",
              "<table border=\"1\" class=\"dataframe\">\n",
              "  <thead>\n",
              "    <tr style=\"text-align: right;\">\n",
              "      <th></th>\n",
              "      <th>municipio</th>\n",
              "      <th>cod_municipality</th>\n",
              "      <th>regiao_intermediaria</th>\n",
              "      <th>cod_regiao_intermediaria</th>\n",
              "      <th>cod_regiao_imediata</th>\n",
              "      <th>regiao_imediata</th>\n",
              "      <th>tipo_producao</th>\n",
              "      <th>cod_variavel</th>\n",
              "      <th>variavel</th>\n",
              "      <th>cod_produto</th>\n",
              "      <th>produto</th>\n",
              "      <th>cod_metrica</th>\n",
              "      <th>metrica</th>\n",
              "      <th>valor</th>\n",
              "      <th>ano</th>\n",
              "    </tr>\n",
              "  </thead>\n",
              "  <tbody>\n",
              "    <tr>\n",
              "      <th>0</th>\n",
              "      <td>Abaetetuba</td>\n",
              "      <td>1500107</td>\n",
              "      <td>Abaetetuba</td>\n",
              "      <td>150003</td>\n",
              "      <td>1501</td>\n",
              "      <td>Belém</td>\n",
              "      <td>Pecuária</td>\n",
              "      <td>105.0</td>\n",
              "      <td>Efetivo dos rebanhos</td>\n",
              "      <td>2670.0</td>\n",
              "      <td>Bovino</td>\n",
              "      <td>24.0</td>\n",
              "      <td>Cabeças</td>\n",
              "      <td>28.000000</td>\n",
              "      <td>1974.0</td>\n",
              "    </tr>\n",
              "    <tr>\n",
              "      <th>1</th>\n",
              "      <td>Abaetetuba</td>\n",
              "      <td>1500107</td>\n",
              "      <td>Abaetetuba</td>\n",
              "      <td>150003</td>\n",
              "      <td>1501</td>\n",
              "      <td>Belém</td>\n",
              "      <td>Pecuária</td>\n",
              "      <td>105.0</td>\n",
              "      <td>Efetivo dos rebanhos</td>\n",
              "      <td>2670.0</td>\n",
              "      <td>Bovino</td>\n",
              "      <td>24.0</td>\n",
              "      <td>Cabeças</td>\n",
              "      <td>54.000000</td>\n",
              "      <td>1975.0</td>\n",
              "    </tr>\n",
              "    <tr>\n",
              "      <th>2</th>\n",
              "      <td>Abaetetuba</td>\n",
              "      <td>1500107</td>\n",
              "      <td>Abaetetuba</td>\n",
              "      <td>150003</td>\n",
              "      <td>1501</td>\n",
              "      <td>Belém</td>\n",
              "      <td>Pecuária</td>\n",
              "      <td>105.0</td>\n",
              "      <td>Efetivo dos rebanhos</td>\n",
              "      <td>2670.0</td>\n",
              "      <td>Bovino</td>\n",
              "      <td>24.0</td>\n",
              "      <td>Cabeças</td>\n",
              "      <td>47.000000</td>\n",
              "      <td>1976.0</td>\n",
              "    </tr>\n",
              "    <tr>\n",
              "      <th>3</th>\n",
              "      <td>Abaetetuba</td>\n",
              "      <td>1500107</td>\n",
              "      <td>Abaetetuba</td>\n",
              "      <td>150003</td>\n",
              "      <td>1501</td>\n",
              "      <td>Belém</td>\n",
              "      <td>Pecuária</td>\n",
              "      <td>105.0</td>\n",
              "      <td>Efetivo dos rebanhos</td>\n",
              "      <td>2670.0</td>\n",
              "      <td>Bovino</td>\n",
              "      <td>24.0</td>\n",
              "      <td>Cabeças</td>\n",
              "      <td>39.000000</td>\n",
              "      <td>1977.0</td>\n",
              "    </tr>\n",
              "    <tr>\n",
              "      <th>4</th>\n",
              "      <td>Abaetetuba</td>\n",
              "      <td>1500107</td>\n",
              "      <td>Abaetetuba</td>\n",
              "      <td>150003</td>\n",
              "      <td>1501</td>\n",
              "      <td>Belém</td>\n",
              "      <td>Pecuária</td>\n",
              "      <td>105.0</td>\n",
              "      <td>Efetivo dos rebanhos</td>\n",
              "      <td>2670.0</td>\n",
              "      <td>Bovino</td>\n",
              "      <td>24.0</td>\n",
              "      <td>Cabeças</td>\n",
              "      <td>10.000000</td>\n",
              "      <td>1978.0</td>\n",
              "    </tr>\n",
              "    <tr>\n",
              "      <th>...</th>\n",
              "      <td>...</td>\n",
              "      <td>...</td>\n",
              "      <td>...</td>\n",
              "      <td>...</td>\n",
              "      <td>...</td>\n",
              "      <td>...</td>\n",
              "      <td>...</td>\n",
              "      <td>...</td>\n",
              "      <td>...</td>\n",
              "      <td>...</td>\n",
              "      <td>...</td>\n",
              "      <td>...</td>\n",
              "      <td>...</td>\n",
              "      <td>...</td>\n",
              "      <td>...</td>\n",
              "    </tr>\n",
              "    <tr>\n",
              "      <th>1430074</th>\n",
              "      <td>Vitória do Xingu</td>\n",
              "      <td>1508357</td>\n",
              "      <td>Altamira</td>\n",
              "      <td>1506</td>\n",
              "      <td>150018</td>\n",
              "      <td>Altamira</td>\n",
              "      <td>Produto das lavouras temporárias</td>\n",
              "      <td>41.0</td>\n",
              "      <td>Área de cobertura</td>\n",
              "      <td>-1.0</td>\n",
              "      <td>Outros</td>\n",
              "      <td>1.0</td>\n",
              "      <td>Hectares</td>\n",
              "      <td>366.334757</td>\n",
              "      <td>2021.0</td>\n",
              "    </tr>\n",
              "    <tr>\n",
              "      <th>1430075</th>\n",
              "      <td>Xinguara</td>\n",
              "      <td>1508407</td>\n",
              "      <td>Redenção</td>\n",
              "      <td>1504</td>\n",
              "      <td>150014</td>\n",
              "      <td>Xinguara</td>\n",
              "      <td>Área de cobertura de Floresta</td>\n",
              "      <td>3.0</td>\n",
              "      <td>Área de cobertura</td>\n",
              "      <td>-1.0</td>\n",
              "      <td>Florest</td>\n",
              "      <td>1.0</td>\n",
              "      <td>Hectares</td>\n",
              "      <td>67297.304704</td>\n",
              "      <td>2021.0</td>\n",
              "    </tr>\n",
              "    <tr>\n",
              "      <th>1430076</th>\n",
              "      <td>Xinguara</td>\n",
              "      <td>1508407</td>\n",
              "      <td>Redenção</td>\n",
              "      <td>1504</td>\n",
              "      <td>150014</td>\n",
              "      <td>Xinguara</td>\n",
              "      <td>Pastagem</td>\n",
              "      <td>15.0</td>\n",
              "      <td>Área de cobertura</td>\n",
              "      <td>-1.0</td>\n",
              "      <td>Pasto</td>\n",
              "      <td>1.0</td>\n",
              "      <td>Hectares</td>\n",
              "      <td>300973.161862</td>\n",
              "      <td>2021.0</td>\n",
              "    </tr>\n",
              "    <tr>\n",
              "      <th>1430077</th>\n",
              "      <td>Xinguara</td>\n",
              "      <td>1508407</td>\n",
              "      <td>Redenção</td>\n",
              "      <td>1504</td>\n",
              "      <td>150014</td>\n",
              "      <td>Xinguara</td>\n",
              "      <td>Produto das lavouras temporárias</td>\n",
              "      <td>39.0</td>\n",
              "      <td>Área de cobertura</td>\n",
              "      <td>-1.0</td>\n",
              "      <td>Soja (em grão)</td>\n",
              "      <td>1.0</td>\n",
              "      <td>Hectares</td>\n",
              "      <td>1232.578321</td>\n",
              "      <td>2021.0</td>\n",
              "    </tr>\n",
              "    <tr>\n",
              "      <th>1430078</th>\n",
              "      <td>Xinguara</td>\n",
              "      <td>1508407</td>\n",
              "      <td>Redenção</td>\n",
              "      <td>1504</td>\n",
              "      <td>150014</td>\n",
              "      <td>Xinguara</td>\n",
              "      <td>Produto das lavouras temporárias</td>\n",
              "      <td>41.0</td>\n",
              "      <td>Área de cobertura</td>\n",
              "      <td>-1.0</td>\n",
              "      <td>Outros</td>\n",
              "      <td>1.0</td>\n",
              "      <td>Hectares</td>\n",
              "      <td>2686.891111</td>\n",
              "      <td>2021.0</td>\n",
              "    </tr>\n",
              "  </tbody>\n",
              "</table>\n",
              "<p>1314717 rows × 15 columns</p>\n",
              "</div>\n",
              "      <button class=\"colab-df-convert\" onclick=\"convertToInteractive('df-f20be9b3-59d2-4a24-a2c7-88443ea1ab89')\"\n",
              "              title=\"Convert this dataframe to an interactive table.\"\n",
              "              style=\"display:none;\">\n",
              "        \n",
              "  <svg xmlns=\"http://www.w3.org/2000/svg\" height=\"24px\"viewBox=\"0 0 24 24\"\n",
              "       width=\"24px\">\n",
              "    <path d=\"M0 0h24v24H0V0z\" fill=\"none\"/>\n",
              "    <path d=\"M18.56 5.44l.94 2.06.94-2.06 2.06-.94-2.06-.94-.94-2.06-.94 2.06-2.06.94zm-11 1L8.5 8.5l.94-2.06 2.06-.94-2.06-.94L8.5 2.5l-.94 2.06-2.06.94zm10 10l.94 2.06.94-2.06 2.06-.94-2.06-.94-.94-2.06-.94 2.06-2.06.94z\"/><path d=\"M17.41 7.96l-1.37-1.37c-.4-.4-.92-.59-1.43-.59-.52 0-1.04.2-1.43.59L10.3 9.45l-7.72 7.72c-.78.78-.78 2.05 0 2.83L4 21.41c.39.39.9.59 1.41.59.51 0 1.02-.2 1.41-.59l7.78-7.78 2.81-2.81c.8-.78.8-2.07 0-2.86zM5.41 20L4 18.59l7.72-7.72 1.47 1.35L5.41 20z\"/>\n",
              "  </svg>\n",
              "      </button>\n",
              "      \n",
              "  <style>\n",
              "    .colab-df-container {\n",
              "      display:flex;\n",
              "      flex-wrap:wrap;\n",
              "      gap: 12px;\n",
              "    }\n",
              "\n",
              "    .colab-df-convert {\n",
              "      background-color: #E8F0FE;\n",
              "      border: none;\n",
              "      border-radius: 50%;\n",
              "      cursor: pointer;\n",
              "      display: none;\n",
              "      fill: #1967D2;\n",
              "      height: 32px;\n",
              "      padding: 0 0 0 0;\n",
              "      width: 32px;\n",
              "    }\n",
              "\n",
              "    .colab-df-convert:hover {\n",
              "      background-color: #E2EBFA;\n",
              "      box-shadow: 0px 1px 2px rgba(60, 64, 67, 0.3), 0px 1px 3px 1px rgba(60, 64, 67, 0.15);\n",
              "      fill: #174EA6;\n",
              "    }\n",
              "\n",
              "    [theme=dark] .colab-df-convert {\n",
              "      background-color: #3B4455;\n",
              "      fill: #D2E3FC;\n",
              "    }\n",
              "\n",
              "    [theme=dark] .colab-df-convert:hover {\n",
              "      background-color: #434B5C;\n",
              "      box-shadow: 0px 1px 3px 1px rgba(0, 0, 0, 0.15);\n",
              "      filter: drop-shadow(0px 1px 2px rgba(0, 0, 0, 0.3));\n",
              "      fill: #FFFFFF;\n",
              "    }\n",
              "  </style>\n",
              "\n",
              "      <script>\n",
              "        const buttonEl =\n",
              "          document.querySelector('#df-f20be9b3-59d2-4a24-a2c7-88443ea1ab89 button.colab-df-convert');\n",
              "        buttonEl.style.display =\n",
              "          google.colab.kernel.accessAllowed ? 'block' : 'none';\n",
              "\n",
              "        async function convertToInteractive(key) {\n",
              "          const element = document.querySelector('#df-f20be9b3-59d2-4a24-a2c7-88443ea1ab89');\n",
              "          const dataTable =\n",
              "            await google.colab.kernel.invokeFunction('convertToInteractive',\n",
              "                                                     [key], {});\n",
              "          if (!dataTable) return;\n",
              "\n",
              "          const docLinkHtml = 'Like what you see? Visit the ' +\n",
              "            '<a target=\"_blank\" href=https://colab.research.google.com/notebooks/data_table.ipynb>data table notebook</a>'\n",
              "            + ' to learn more about interactive tables.';\n",
              "          element.innerHTML = '';\n",
              "          dataTable['output_type'] = 'display_data';\n",
              "          await google.colab.output.renderOutput(dataTable, element);\n",
              "          const docLink = document.createElement('div');\n",
              "          docLink.innerHTML = docLinkHtml;\n",
              "          element.appendChild(docLink);\n",
              "        }\n",
              "      </script>\n",
              "    </div>\n",
              "  </div>\n",
              "  "
            ]
          },
          "metadata": {},
          "execution_count": 11
        }
      ]
    },
    {
      "cell_type": "code",
      "source": [
        "df.variavel.unique()"
      ],
      "metadata": {
        "colab": {
          "base_uri": "https://localhost:8080/"
        },
        "id": "XPvGj8UsZMKv",
        "outputId": "bc2c0d07-afb4-47c9-b665-889d5d639c50"
      },
      "execution_count": 12,
      "outputs": [
        {
          "output_type": "execute_result",
          "data": {
            "text/plain": [
              "array(['Efetivo dos rebanhos', 'Quantidade produzida', 'Área colhida',\n",
              "       'Área plantada', 'Área destinada à colheita',\n",
              "       'Quantidade produzida na silvicultura', 'Área de cobertura'],\n",
              "      dtype=object)"
            ]
          },
          "metadata": {},
          "execution_count": 12
        }
      ]
    },
    {
      "cell_type": "code",
      "source": [
        "df = df.loc[(df['variavel'] != 'Área destinada à colheita') & (df['variavel'] != 'Área plantada') & (df['variavel'] != 'Área colhida')]"
      ],
      "metadata": {
        "id": "4MDzCP1vZSVN"
      },
      "execution_count": 20,
      "outputs": []
    },
    {
      "cell_type": "code",
      "source": [
        "df.to_csv('/content/drive/MyDrive/Dados/unified-data/full_table_05022023.csv', index=False)"
      ],
      "metadata": {
        "id": "CwzsJImRZeHX"
      },
      "execution_count": 22,
      "outputs": []
    },
    {
      "cell_type": "code",
      "source": [],
      "metadata": {
        "id": "gAUEsOwRa0a_"
      },
      "execution_count": null,
      "outputs": []
    },
    {
      "cell_type": "markdown",
      "source": [
        "# GitHub"
      ],
      "metadata": {
        "id": "YHVn-0aae4VI"
      }
    },
    {
      "cell_type": "code",
      "source": [
        "!ls"
      ],
      "metadata": {
        "colab": {
          "base_uri": "https://localhost:8080/"
        },
        "id": "vJQtQ3Hte5la",
        "outputId": "0f5e8e97-0040-4ff8-ee9c-c45e091930dc"
      },
      "execution_count": 23,
      "outputs": [
        {
          "output_type": "stream",
          "name": "stdout",
          "text": [
            "drive  sample_data\n"
          ]
        }
      ]
    },
    {
      "cell_type": "code",
      "source": [
        "!cd drive"
      ],
      "metadata": {
        "id": "F2Sc3sS2flI4"
      },
      "execution_count": 24,
      "outputs": []
    },
    {
      "cell_type": "code",
      "source": [
        "!ls"
      ],
      "metadata": {
        "colab": {
          "base_uri": "https://localhost:8080/"
        },
        "id": "pPj8l2Eafm6O",
        "outputId": "716ee3af-5643-4cc3-da01-050e04ae6a6d"
      },
      "execution_count": 25,
      "outputs": [
        {
          "output_type": "stream",
          "name": "stdout",
          "text": [
            "drive  sample_data\n"
          ]
        }
      ]
    },
    {
      "cell_type": "code",
      "source": [
        "!cd drive\n",
        "!ls"
      ],
      "metadata": {
        "colab": {
          "base_uri": "https://localhost:8080/"
        },
        "id": "QfoFOOYFfq9-",
        "outputId": "31a6afa4-f350-44d5-a0c3-7ee3189b9930"
      },
      "execution_count": 26,
      "outputs": [
        {
          "output_type": "stream",
          "name": "stdout",
          "text": [
            "drive  sample_data\n"
          ]
        }
      ]
    },
    {
      "cell_type": "code",
      "source": [
        "!git clone https://github.com/npcateam2/data_agro.git"
      ],
      "metadata": {
        "colab": {
          "base_uri": "https://localhost:8080/"
        },
        "id": "tQIzsT-Nf5mt",
        "outputId": "21340b29-c0c4-4222-d430-88f6a61fdf30"
      },
      "execution_count": 27,
      "outputs": [
        {
          "output_type": "stream",
          "name": "stdout",
          "text": [
            "Cloning into 'data_agro'...\n",
            "remote: Enumerating objects: 4, done.\u001b[K\n",
            "remote: Counting objects: 100% (4/4), done.\u001b[K\n",
            "remote: Compressing objects: 100% (3/3), done.\u001b[K\n",
            "remote: Total 4 (delta 0), reused 0 (delta 0), pack-reused 0\u001b[K\n",
            "Unpacking objects: 100% (4/4), 1.56 KiB | 1.56 MiB/s, done.\n"
          ]
        }
      ]
    },
    {
      "cell_type": "code",
      "source": [
        "!cp \"/content/drive/MyDrive/Colab Notebooks\" \"/content/data_agro/Colab Notebooks\""
      ],
      "metadata": {
        "colab": {
          "base_uri": "https://localhost:8080/"
        },
        "id": "WS25iWs_gEBp",
        "outputId": "6ef000f5-423e-4b33-beea-a9eadf7bd9f5"
      },
      "execution_count": 28,
      "outputs": [
        {
          "metadata": {
            "tags": null
          },
          "name": "stdout",
          "output_type": "stream",
          "text": [
            "cp: -r not specified; omitting directory '/content/drive/MyDrive/Colab Notebooks'\n"
          ]
        }
      ]
    },
    {
      "cell_type": "code",
      "source": [
        "!git add ."
      ],
      "metadata": {
        "colab": {
          "base_uri": "https://localhost:8080/"
        },
        "id": "wZiedT7WgcT0",
        "outputId": "5f070432-e4df-4a7c-d2a6-f8cf6a1b13db"
      },
      "execution_count": 29,
      "outputs": [
        {
          "output_type": "stream",
          "name": "stdout",
          "text": [
            "fatal: not a git repository (or any of the parent directories): .git\n"
          ]
        }
      ]
    },
    {
      "cell_type": "code",
      "source": [
        "!git add ./data_agro"
      ],
      "metadata": {
        "colab": {
          "base_uri": "https://localhost:8080/"
        },
        "id": "31LQ_mUggvqu",
        "outputId": "62e110ac-78dc-4cb4-b2c6-b12cc4a6029d"
      },
      "execution_count": 31,
      "outputs": [
        {
          "output_type": "stream",
          "name": "stdout",
          "text": [
            "fatal: not a git repository (or any of the parent directories): .git\n"
          ]
        }
      ]
    },
    {
      "cell_type": "code",
      "source": [
        "!cd data_agro"
      ],
      "metadata": {
        "id": "ceFn0k0PgzAk"
      },
      "execution_count": 33,
      "outputs": []
    },
    {
      "cell_type": "code",
      "source": [
        "!git status"
      ],
      "metadata": {
        "colab": {
          "base_uri": "https://localhost:8080/"
        },
        "id": "c-18-lsog99n",
        "outputId": "a81e4c4d-3df6-40e5-8b7e-918ec71a1dba"
      },
      "execution_count": 34,
      "outputs": [
        {
          "output_type": "stream",
          "name": "stdout",
          "text": [
            "fatal: not a git repository (or any of the parent directories): .git\n"
          ]
        }
      ]
    },
    {
      "cell_type": "code",
      "source": [
        "!git init data_agro"
      ],
      "metadata": {
        "colab": {
          "base_uri": "https://localhost:8080/"
        },
        "id": "M_Rcet30hDk3",
        "outputId": "655cf005-7de2-4cc4-b02e-d10a7fdcfe08"
      },
      "execution_count": 35,
      "outputs": [
        {
          "output_type": "stream",
          "name": "stdout",
          "text": [
            "Reinitialized existing Git repository in /content/data_agro/.git/\n"
          ]
        }
      ]
    },
    {
      "cell_type": "code",
      "source": [
        "!ls"
      ],
      "metadata": {
        "colab": {
          "base_uri": "https://localhost:8080/"
        },
        "id": "JUddNSINhQuJ",
        "outputId": "de32b265-42b5-41df-93cf-5405609d0feb"
      },
      "execution_count": 36,
      "outputs": [
        {
          "output_type": "stream",
          "name": "stdout",
          "text": [
            "data_agro  drive  sample_data\n"
          ]
        }
      ]
    },
    {
      "cell_type": "code",
      "source": [
        "!cd data_agro"
      ],
      "metadata": {
        "id": "l2SQzqLAhY8g"
      },
      "execution_count": 37,
      "outputs": []
    },
    {
      "cell_type": "code",
      "source": [
        "!ls"
      ],
      "metadata": {
        "colab": {
          "base_uri": "https://localhost:8080/"
        },
        "id": "2m8r_MFIhbmA",
        "outputId": "1b92b3b2-a1d7-4881-fc0e-3ad071207fe2"
      },
      "execution_count": 39,
      "outputs": [
        {
          "output_type": "stream",
          "name": "stdout",
          "text": [
            "data_agro  drive  sample_data\n"
          ]
        }
      ]
    },
    {
      "cell_type": "code",
      "source": [
        "!cd data_agro"
      ],
      "metadata": {
        "id": "m9uhTSzXhdMz"
      },
      "execution_count": 40,
      "outputs": []
    },
    {
      "cell_type": "code",
      "source": [
        "!ls"
      ],
      "metadata": {
        "colab": {
          "base_uri": "https://localhost:8080/"
        },
        "id": "IflYHIDZhj1T",
        "outputId": "62a8633d-d62a-4c43-bc2e-3b7342dc3b1b"
      },
      "execution_count": 41,
      "outputs": [
        {
          "output_type": "stream",
          "name": "stdout",
          "text": [
            "data_agro  drive  sample_data\n"
          ]
        }
      ]
    },
    {
      "cell_type": "code",
      "source": [],
      "metadata": {
        "id": "pfvhu8tbhkcD"
      },
      "execution_count": null,
      "outputs": []
    }
  ]
}